{
  "nbformat": 4,
  "nbformat_minor": 0,
  "metadata": {
    "colab": {
      "provenance": [],
      "collapsed_sections": [],
      "include_colab_link": true
    },
    "kernelspec": {
      "name": "python3",
      "display_name": "Python 3"
    },
    "language_info": {
      "name": "python"
    }
  },
  "cells": [
    {
      "cell_type": "markdown",
      "metadata": {
        "id": "view-in-github",
        "colab_type": "text"
      },
      "source": [
        "<a href=\"https://colab.research.google.com/github/Shadyarrawf/besiction/blob/main/bisection.ipynb\" target=\"_parent\"><img src=\"https://colab.research.google.com/assets/colab-badge.svg\" alt=\"Open In Colab\"/></a>"
      ]
    },
    {
      "cell_type": "code",
      "execution_count": null,
      "metadata": {
        "id": "qHXkZs70xKim"
      },
      "outputs": [],
      "source": [
        "# Python3 implementation of Bisection\n",
        "# Method for solving equations\n",
        "\n",
        "MAX_ITER = 1000000\n",
        "\n",
        "# An example function whose solution\n",
        "# is determined using Bisection Method.\n",
        "# The function is x^3 - x^2 + 2\n",
        "def func( x ):\n",
        "\treturn (x * x * x - x * x + 2)\n",
        "\n",
        "# Prints root of func(x) in interval [a, b]\n",
        "def regulaFalsi( a , b):\n",
        "\tif func(a) * func(b) >= 0:\n",
        "\t\tprint(\"You have not assumed right a and b\")\n",
        "\t\treturn -1\n",
        "\t\n",
        "\tc = a # Initialize result\n",
        "\t\n",
        "\tfor i in range(MAX_ITER):\n",
        "\t\t\n",
        "\t\t# Find the point that touches x axis\n",
        "\t\tc = (a * func(b) - b * func(a))/ (func(b) - func(a))\n",
        "\t\t\n",
        "\t\t# Check if the above found point is root\n",
        "\t\tif func(c) == 0:\n",
        "\t\t\tbreak\n",
        "\t\t\n",
        "\t\t# Decide the side to repeat the steps\n",
        "\t\telif func(c) * func(a) < 0:\n",
        "\t\t\tb = c\n",
        "\t\telse:\n",
        "\t\t\ta = c\n",
        "\tprint(\"The value of root is : \" , '%.4f' %c)\n",
        "\n",
        "# Driver code to test above function\n",
        "# Initial values assumed\n",
        "a =-200\n",
        "b = 300\n",
        "regulaFalsi(a, b)\n"
      ]
    },
    {
      "cell_type": "markdown",
      "source": [],
      "metadata": {
        "id": "ZSWjFXKWNtt4"
      }
    }
  ]
}